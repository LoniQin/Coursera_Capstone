{
  "nbformat": 4,
  "nbformat_minor": 0,
  "metadata": {
    "colab": {
      "name": "IBM Data Science Capstone Project.ipynb",
      "provenance": [],
      "authorship_tag": "ABX9TyNdoeHyZ5KCVkIiw4dwjZxy"
    },
    "kernelspec": {
      "name": "python3",
      "display_name": "Python 3"
    },
    "language_info": {
      "name": "python"
    }
  },
  "cells": [
    {
      "cell_type": "markdown",
      "metadata": {
        "id": "ChfWiIMD5nPL"
      },
      "source": [
        "# IBM Data Science Capstone Project\n",
        "This notebook is mainly for Capstone Project in [IBM Data Science](https://www.coursera.org/professional-certificates/ibm-data-science) Specialization."
      ]
    },
    {
      "cell_type": "code",
      "metadata": {
        "colab": {
          "base_uri": "https://localhost:8080/"
        },
        "id": "kkRbVe-p6FD8",
        "outputId": "7feaee0f-c824-4fb7-f2b0-002b9b3a1d52"
      },
      "source": [
        "import pandas as pd\n",
        "import numpy as np\n",
        "print(\"Hello Capstone Project Course!\")"
      ],
      "execution_count": 2,
      "outputs": [
        {
          "output_type": "stream",
          "text": [
            "Hello Capstone Project Course!\n"
          ],
          "name": "stdout"
        }
      ]
    }
  ]
}